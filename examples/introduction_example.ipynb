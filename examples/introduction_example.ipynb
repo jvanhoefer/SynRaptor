{
 "cells": [
  {
   "cell_type": "markdown",
   "metadata": {},
   "source": [
    "# SynRaptor\n",
    "\n",
    "This notebook showcases the use of `SynRaptor`"
   ]
  },
  {
   "cell_type": "code",
   "execution_count": 1,
   "metadata": {},
   "outputs": [],
   "source": [
    "import os\n",
    "os.chdir('/Users/jvanhoefer/Dokumente/PhD/Projects/Supervisions/Drug Synergies/Code/SynRaptor')"
   ]
  },
  {
   "cell_type": "markdown",
   "metadata": {},
   "source": [
    "## Single Drug Data\n",
    "\n"
   ]
  },
  {
   "cell_type": "code",
   "execution_count": 3,
   "metadata": {},
   "outputs": [],
   "source": [
    "import numpy as np\n",
    "\n",
    "dose = np.array(\n",
    "    [0.0045, 0.0045, 0.0045, 0.0045, 0.0045, 0.0045,\n",
    "     0.014 , 0.014 , 0.014 , 0.014 , 0.014 , 0.014 ,\n",
    "     0.04  , 0.04  , 0.04  , 0.04  , 0.04  , 0.04  ,\n",
    "     0.12  , 0.12  , 0.12  , 0.12  , 0.12  , 0.12  , \n",
    "     0.37  , 0.37  , 0.37  , 0.37  , 0.37  , 0.37  ,\n",
    "     1.1   , 1.1   , 1.1   , 1.1   , 1.1   , 1.1   ,\n",
    "     3.4   , 3.4   , 3.4   , 3.4   , 3.4   , 3.4   , \n",
    "     10    , 10    , 10    , 10    , 10    , 10    ])\n",
    "\n",
    "# Response data for drug 5-FU\n",
    "\n",
    "response_5FU = np.array(\n",
    "    [0.908, 1.010, 1.010, 1.182, 0.958, 1.032, \n",
    "     0.922, 1.081, 0.971, 1.064, 1.040, 1.163,\n",
    "     0.973, 1.112, 1.055, 1.100, 1.036, 1.069,\n",
    "     0.928, 1.071, 0.959, 1.108, 1.040, 1.145,\n",
    "     1.020, 1.116, 1.021, 1.054, 0.956, 1.024,\n",
    "     0.965, 0.982, 0.953, 0.989, 0.885, 1.013, \n",
    "     0.716, 0.864, 0.766, 0.754, 0.798, 0.815,\n",
    "     0.553, 0.641, 0.563, 0.532, 0.536, 0.593])\n",
    "\n",
    "# Response data for drug ABT-888\n",
    "\n",
    "response_ABT888 = np.array(\n",
    "    [0.964, 1.081, 0.986, 1.074, 1.064, 1.161, \n",
    "     0.944, 1.050, 1.022, 1.090, 1.059, 1.158, \n",
    "     1.008, 1.049, 0.993, 1.181, 1.037, 1.101, \n",
    "     0.915, 1.017, 1.014, 1.159, 1.010, 1.207,\n",
    "     0.089, 1.140, 1.027, 1.132, 0.972, 1.071, \n",
    "     1.072, 1.156, 1.019, 1.065, 0.919, 1.133, \n",
    "     1.033, 1.092, 0.985, 1.027, 0.984, 1.015,\n",
    "     0.934, 1.052, 1.022, 1.010, 0.810, 1.045])"
   ]
  },
  {
   "cell_type": "code",
   "execution_count": 4,
   "metadata": {},
   "outputs": [],
   "source": [
    "import synraptor\n",
    "\n",
    "drug_5FU = synraptor.HillCurveModel(dose_data=dose, \n",
    "                                    response_data=response_5FU, \n",
    "                                    monotone_increasing=False, \n",
    "                                    control_response=1)\n",
    "\n",
    "drug_ABT888 = synraptor.HillCurveModel(dose_data=dose, \n",
    "                                       response_data=response_ABT888, \n",
    "                                       monotone_increasing=False, \n",
    "                                       control_response=1)"
   ]
  },
  {
   "cell_type": "code",
   "execution_count": 5,
   "metadata": {},
   "outputs": [
    {
     "name": "stderr",
     "output_type": "stream",
     "text": [
      "Executing task 0.\n",
      "Final fval=0.2216, time=0.0521s, n_fval=40.\n",
      "Executing task 1.\n",
      "Final fval=0.2278, time=0.0229s, n_fval=18.\n",
      "Executing task 2.\n",
      "Final fval=0.2216, time=0.0559s, n_fval=48.\n",
      "Executing task 3.\n",
      "Final fval=0.2216, time=0.0505s, n_fval=45.\n",
      "Executing task 4.\n",
      "Final fval=0.2216, time=0.0255s, n_fval=20.\n",
      "Executing task 5.\n",
      "Final fval=0.2216, time=0.0343s, n_fval=30.\n",
      "Executing task 6.\n",
      "Final fval=0.2216, time=0.0259s, n_fval=23.\n",
      "Executing task 7.\n",
      "Final fval=0.2216, time=0.0417s, n_fval=37.\n",
      "Executing task 8.\n",
      "Final fval=0.2277, time=0.0129s, n_fval=10.\n",
      "Executing task 9.\n",
      "Final fval=0.2216, time=0.0263s, n_fval=21.\n",
      "Executing task 0.\n",
      "Final fval=1.1949, time=0.0274s, n_fval=24.\n",
      "Executing task 1.\n",
      "Final fval=1.1949, time=0.0266s, n_fval=24.\n",
      "Executing task 2.\n",
      "Final fval=1.1976, time=0.0064s, n_fval=5.\n",
      "Executing task 3.\n",
      "Final fval=1.1949, time=0.0331s, n_fval=28.\n",
      "Executing task 4.\n",
      "Final fval=1.1976, time=0.0029s, n_fval=2.\n",
      "Executing task 5.\n",
      "Final fval=1.1949, time=0.0768s, n_fval=68.\n",
      "Executing task 6.\n",
      "Final fval=1.1949, time=0.0055s, n_fval=4.\n",
      "Executing task 7.\n",
      "Final fval=1.1976, time=0.0031s, n_fval=2.\n",
      "Executing task 8.\n",
      "Final fval=1.1949, time=0.0548s, n_fval=47.\n",
      "Executing task 9.\n",
      "Final fval=1.1949, time=0.0446s, n_fval=38.\n"
     ]
    }
   ],
   "source": [
    "drug_5FU.fit_parameters()\n",
    "drug_ABT888.fit_parameters()"
   ]
  },
  {
   "cell_type": "code",
   "execution_count": 5,
   "metadata": {},
   "outputs": [],
   "source": [
    "combination_bliss = synraptor.BlissCombinationModel([drug_5FU, drug_ABT888])"
   ]
  },
  {
   "cell_type": "code",
   "execution_count": 22,
   "metadata": {},
   "outputs": [
    {
     "name": "stderr",
     "output_type": "stream",
     "text": [
      "Executing task 0.\n",
      "Final fval=48.4936, time=0.1013s, n_fval=37.\n"
     ]
    },
    {
     "data": {
      "text/plain": [
       "0.26010192579266767"
      ]
     },
     "execution_count": 22,
     "metadata": {},
     "output_type": "execute_result"
    }
   ],
   "source": [
    "combination_bliss.get_likelihood_ratio_significance([3, 3], 1.0)"
   ]
  },
  {
   "cell_type": "code",
   "execution_count": 2,
   "metadata": {},
   "outputs": [
    {
     "name": "stdout",
     "output_type": "stream",
     "text": [
      "/Library/Frameworks/Python.framework/Versions/3.7/bin/python3\r\n"
     ]
    }
   ],
   "source": []
  },
  {
   "cell_type": "code",
   "execution_count": 3,
   "metadata": {},
   "outputs": [
    {
     "name": "stdout",
     "output_type": "stream",
     "text": [
      "3.7.1\n"
     ]
    }
   ],
   "source": [
    "from platform import python_version\n",
    "\n",
    "print(python_version())"
   ]
  },
  {
   "cell_type": "code",
   "execution_count": 4,
   "metadata": {},
   "outputs": [
    {
     "data": {
      "text/plain": [
       "'/Library/Frameworks/Python.framework/Versions/3.7/bin/python3'"
      ]
     },
     "execution_count": 4,
     "metadata": {},
     "output_type": "execute_result"
    }
   ],
   "source": [
    "import sys\n",
    "sys.executable"
   ]
  },
  {
   "cell_type": "code",
   "execution_count": null,
   "metadata": {},
   "outputs": [],
   "source": []
  }
 ],
 "metadata": {
  "kernelspec": {
   "display_name": "Python 3",
   "language": "python",
   "name": "python3"
  },
  "language_info": {
   "codemirror_mode": {
    "name": "ipython",
    "version": 3
   },
   "file_extension": ".py",
   "mimetype": "text/x-python",
   "name": "python",
   "nbconvert_exporter": "python",
   "pygments_lexer": "ipython3",
   "version": "3.7.1"
  }
 },
 "nbformat": 4,
 "nbformat_minor": 4
}
